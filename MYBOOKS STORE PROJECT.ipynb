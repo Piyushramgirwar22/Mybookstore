{
 "cells": [
  {
   "cell_type": "markdown",
   "id": "0888b596",
   "metadata": {},
   "source": [
    "# <center>BOOKS DATA PROJECT\n",
    "    "
   ]
  },
  {
   "cell_type": "markdown",
   "id": "052c3665",
   "metadata": {},
   "source": [
    "## Webscrapping data from website"
   ]
  },
  {
   "cell_type": "code",
   "execution_count": null,
   "id": "cdd545ad",
   "metadata": {},
   "outputs": [],
   "source": [
    "#Imported required libraries\n",
    "\n",
    "import time\n",
    "import selenium\n",
    "from selenium import webdriver\n",
    "from selenium.webdriver.common.by import By\n",
    "from selenium.webdriver.support.ui import WebDriverWait\n",
    "from selenium.webdriver.support import expected_conditions as EC\n",
    "from selenium.webdriver.common.keys import Keys\n",
    "import urllib\n",
    "import pandas as pd\n",
    "import numpy as np\n",
    "import matplotlib.pyplot as plt\n",
    "import seaborn as sns\n",
    "\n",
    "\n",
    "#Executed the chrome driver for automated chrome handeling\n",
    "\n",
    "driver = webdriver.Chrome(\"chromedriver.exe\")\n",
    "\n",
    "#Opened books website with fiction category on chrome \n",
    "print(\"opening the webpage\",\"\\n\")\n",
    "\n",
    "driver.get('https://www.buybooksindia.com/fiction-and-non-fiction-books.php');\n",
    "time.sleep(2)\n",
    "\n",
    "#clicked on load more option for loading more books data\n",
    "\n",
    "print(\"clicking on load more\",\"\\n\")\n",
    "\n",
    "count=0\n",
    "\n",
    "while True:\n",
    "    if count==1:\n",
    "        break\n",
    "    count+=1\n",
    "    \n",
    "    driver.find_element(By.XPATH,\"/html/body/div[4]/div/div[3]/div/div/div/div[2]/button\").click()\n",
    "    time.sleep(2)\n",
    "\n",
    "\n",
    "    \n",
    "links1=[]\n",
    "\n",
    "#appended the links in list\n",
    "\n",
    "link1=driver.find_elements(By.TAG_NAME,\"a\")\n",
    "for lnk in link1:\n",
    "    links1.append(lnk.get_attribute('href'))\n",
    "    \n",
    "print(\"collected all href links\",\"\\n\")    \n",
    "#opened books website with kids category\n",
    "\n",
    "print(\"opening the new category webpage\",\"\\n\")\n",
    "\n",
    "driver.get('https://www.buybooksindia.com/books-detail-view.php/child/commonCat/children-and-young-adult-books');\n",
    "time.sleep(2)\n",
    "\n",
    "print(\"clicking on load more\",\"\\n\")\n",
    "##clicked on load more option for loading more books data\n",
    "\n",
    "count=0\n",
    "\n",
    "while True:\n",
    "    if count==1:\n",
    "        break\n",
    "    count+=1\n",
    "    \n",
    "    driver.find_element(By.XPATH,\"/html/body/div[4]/div/div[3]/div/div/div/div[2]/button\").click()\n",
    "    time.sleep(2)\n",
    "\n",
    "print(\"collected all href links\",\"\\n\")\n",
    "#appended the links in list\n",
    "\n",
    "link2=driver.find_elements(By.TAG_NAME,\"a\")\n",
    "for lnk in link2:\n",
    "    links1.append(lnk.get_attribute('href'))\n",
    "    \n",
    "#created the list of links which contains only book data\n",
    "\n",
    "book=[]\n",
    "\n",
    "#appended the book page links in list(book)\n",
    "print(\"filtering books webpage link\",\"\\n\")\n",
    "\n",
    "for a in links1:\n",
    "    if a[-4:] == \".htm\" and a not in book:\n",
    "        book.append(a)\n",
    "        \n",
    "print(\"Total book links - \",len(book),\"\\n\")\n",
    "\n",
    "#created the dictionary for appending the required info\n",
    "\n",
    "BOOK_DATA={ \"book_name\":[],\n",
    "            \"author\":[],\n",
    "            \"publication\":[],\n",
    "            \"publication_year\":[],\n",
    "            \"availability\":[],\n",
    "            \"pages\":[],\n",
    "            \"rating\":[],\n",
    "            \"shipping_time\" : [],\n",
    "            \"language\":[],\n",
    "            \"price\":[],\n",
    "            \"binding\":[],\n",
    "            \"cover\":[],\n",
    "            \"about_book\":[],\n",
    "            \"page_link\":[]}\n",
    "\n",
    "#fetched the book imformation and appended the required data\n",
    "print(\"started to extract the books data from webpages\",\"\\n\")\n",
    "\n",
    "\n",
    "count=0\n",
    "\n",
    "for i in range(len(book)):\n",
    "    \n",
    "    try:\n",
    "        #appending page link in dictionary \n",
    "        \n",
    "        BOOK_DATA[\"page_link\"].append(book[i])\n",
    "        driver.get(book[i])\n",
    "        i=i+1\n",
    "        \n",
    "        \n",
    "        \n",
    "        driver.implicitly_wait(2)\n",
    "        \n",
    "        ## click on product details \n",
    "        button = driver.find_element(By.XPATH,\"/html/body/div[4]/div/div/div/div/div[2]/ul/li[3]/a\")\n",
    "        driver.execute_script(\"arguments[0].click();\", button)\n",
    "        \n",
    "        \n",
    "        ## scroll down slowly to extract the details\n",
    "        total_height = int(driver.execute_script(\"return document.body.scrollHeight\"))\n",
    "        half = int(0.25*(total_height))\n",
    "        for i in range(1, half , 2):\n",
    "            driver.execute_script(\"window.scrollTo(0, {});\".format(i))\n",
    "        \n",
    "        \n",
    "\n",
    "        #book name\n",
    "        try:\n",
    "            \n",
    "            book_n= driver.find_element(By.CLASS_NAME,\"product-name\").text\n",
    "            BOOK_DATA[\"book_name\"].append(book_n)\n",
    "        except:\n",
    "            BOOK_DATA[\"book_name\"].append('Na')\n",
    "        \n",
    "        #author name\n",
    "        try:\n",
    "            \n",
    "            auth = driver.find_element(By.XPATH,'/html/body/div[4]/div/div/div/div/div[1]/div[2]/div[1]/div[1]/h3').text\n",
    "            BOOK_DATA[\"author\"].append(auth)\n",
    "        except:\n",
    "            BOOK_DATA[\"author\"].append(\"Na\")\n",
    "        \n",
    "        #availability\n",
    "        try:\n",
    "            \n",
    "            avl = driver.find_element(By.CLASS_NAME,'in-stock').text\n",
    "            BOOK_DATA[\"availability\"].append(avl)\n",
    "        except:\n",
    "            BOOK_DATA[\"availability\"].append(\"Na\")\n",
    "        \n",
    "        #publication\n",
    "        try:\n",
    "            \n",
    "            pub = driver.find_element(By.XPATH,'/html/body/div[4]/div/div/div/div/div[2]/div/div[1]/table/tbody/tr[1]/td[2]/h3').text\n",
    "            BOOK_DATA[\"publication\"].append(pub)\n",
    "        except:\n",
    "            BOOK_DATA[\"publication\"].append(\"Na\")\n",
    "        \n",
    "        #published year\n",
    "        try:\n",
    "            \n",
    "            puby = driver.find_element(By.XPATH,'/html/body/div[4]/div/div/div/div/div[2]/div/div[1]/table/tbody/tr[2]/td[2]').text\n",
    "            BOOK_DATA[\"publication_year\"].append(puby)\n",
    "        except:\n",
    "            BOOK_DATA[\"publication_year\"].append(\"Na\")\n",
    "         \n",
    "        #total pages\n",
    "        try:\n",
    "            page = driver.find_element(By.XPATH,'/html/body/div[4]/div/div/div/div/div[2]/div/div[1]/table/tbody/tr[6]/td[2]').text\n",
    "            BOOK_DATA[\"pages\"].append(page)\n",
    "        except:\n",
    "            BOOK_DATA[\"pages\"].append(\"Na\")\n",
    "            \n",
    "         #book rating   \n",
    "        try:\n",
    "            rate = driver.find_element(By.XPATH,'/html/body/div[4]/div/div/div/div/div[1]/div[2]/div[7]/div[1]/p').text\n",
    "            BOOK_DATA[\"rating\"].append(rate)\n",
    "        except:\n",
    "            BOOK_DATA[\"rating\"].append(\"Na\")\n",
    "            \n",
    "        #shipping time\n",
    "        try:\n",
    "            \n",
    "            timing = driver.find_element(By.XPATH,'/html/body/div[4]/div/div/div/div/div[1]/div[2]/div[3]/p[2]/span').text\n",
    "            BOOK_DATA[\"shipping_time\"].append(timing)\n",
    "        except:\n",
    "            BOOK_DATA[\"shipping_time\"].append(\"Na\")\n",
    "        \n",
    "        #book language\n",
    "        try:\n",
    "            \n",
    "            lang = driver.find_element(By.XPATH,'/html/body/div[4]/div/div/div/div/div[2]/div/div[1]/table/tbody/tr[7]/td[2]').text\n",
    "            BOOK_DATA[\"language\"].append(lang)\n",
    "        except:\n",
    "            BOOK_DATA[\"language\"].append(\"Na\")\n",
    "        \n",
    "        #book price\n",
    "        try:\n",
    "            \n",
    "            rs = driver.find_element(By.CLASS_NAME,'product-price-group').text\n",
    "            BOOK_DATA[\"price\"].append(rs)\n",
    "        except:\n",
    "            BOOK_DATA[\"price\"].append(\"Na\")\n",
    "        \n",
    "        #typeof book binding\n",
    "        try:\n",
    "            \n",
    "            bind = driver.find_element(By.XPATH,'/html/body/div[4]/div/div/div/div/div[2]/div/div[1]/table/tbody/tr[5]/td[2]/h4').text\n",
    "            BOOK_DATA[\"binding\"].append(bind)\n",
    "        except:\n",
    "            BOOK_DATA[\"binding\"].append(\"Na\")\n",
    "         \n",
    "        #book photo\n",
    "        try:\n",
    "            image = driver.find_elements(By.XPATH,'/html/body/div[4]/div/div/div/div/div[1]/div[1]/div/div[1]/div[1]/div/div/div/div/div/img')\n",
    "            for i in range(1):\n",
    "                BOOK_DATA[\"cover\"].append(image[i].get_attribute('src'))\n",
    "                    \n",
    "        except:\n",
    "            BOOK_DATA[\"cover\"].append('Na')\n",
    "\n",
    "        \n",
    "        button = driver.find_element(By.XPATH,\"/html/body/div[4]/div/div/div/div/div[2]/ul/li[1]/a\")\n",
    "        driver.execute_script(\"arguments[0].click();\", button)\n",
    "        \n",
    "        try:\n",
    "            \n",
    "            about = driver.find_element(By.XPATH,'/html/body/div[4]/div/div/div/div/div[2]/div/div[2]').text\n",
    "            BOOK_DATA[\"about_book\"].append(about)\n",
    "        except:\n",
    "            BOOK_DATA[\"about_book\"].append(\"Na\")\n",
    "            \n",
    "        driver.implicitly_wait(2)\n",
    "\n",
    "\n",
    "        count+=1\n",
    "        print(\"book :\",count,'|',end=' ')\n",
    "    except:\n",
    "        pass\n",
    "        \n",
    "print(\"book data collection done\")\n",
    "        \n",
    "df = pd.DataFrame(BOOK_DATA)\n",
    "df.to_csv('mybookstore.csv',index=False)\n",
    "df"
   ]
  },
  {
   "cell_type": "markdown",
   "id": "890e0571",
   "metadata": {},
   "source": [
    "###  # Data Cleaning and preprocessing"
   ]
  },
  {
   "cell_type": "code",
   "execution_count": 57,
   "id": "b4724624",
   "metadata": {},
   "outputs": [
    {
     "data": {
      "text/plain": [
       "['book_name',\n",
       " 'author',\n",
       " 'publication',\n",
       " 'publication_year',\n",
       " 'availability',\n",
       " 'pages',\n",
       " 'rating',\n",
       " 'shipping_time',\n",
       " 'language',\n",
       " 'price',\n",
       " 'binding',\n",
       " 'cover',\n",
       " 'about_book',\n",
       " 'page_link']"
      ]
     },
     "execution_count": 57,
     "metadata": {},
     "output_type": "execute_result"
    }
   ],
   "source": [
    "col=list(df.columns)\n",
    "col"
   ]
  },
  {
   "cell_type": "code",
   "execution_count": 58,
   "id": "0bb6169d",
   "metadata": {},
   "outputs": [],
   "source": [
    "#replaced Na value with nulls\n",
    "\n",
    "for i in col:\n",
    "    df[i]=df[i].replace('Na',np.nan)\n",
    "    \n",
    "    \n",
    "#checked for total null values in dataframe \n",
    "\n",
    "df.isna().sum()"
   ]
  },
  {
   "cell_type": "code",
   "execution_count": 63,
   "id": "ecc2416c",
   "metadata": {},
   "outputs": [
    {
     "name": "stderr",
     "output_type": "stream",
     "text": [
      "C:\\Users\\lenovo\\AppData\\Local\\Temp/ipykernel_2772/2961701942.py:19: FutureWarning: The default value of regex will change from True to False in a future version. In addition, single character regular expressions will *not* be treated as literal strings when regex=True.\n",
      "  df['language']=df['language'].str.replace('(','').str.replace(')','')\n",
      "C:\\Users\\lenovo\\AppData\\Local\\Temp/ipykernel_2772/2961701942.py:19: SettingWithCopyWarning: \n",
      "A value is trying to be set on a copy of a slice from a DataFrame.\n",
      "Try using .loc[row_indexer,col_indexer] = value instead\n",
      "\n",
      "See the caveats in the documentation: https://pandas.pydata.org/pandas-docs/stable/user_guide/indexing.html#returning-a-view-versus-a-copy\n",
      "  df['language']=df['language'].str.replace('(','').str.replace(')','')\n"
     ]
    },
    {
     "data": {
      "text/plain": [
       "2485"
      ]
     },
     "execution_count": 63,
     "metadata": {},
     "output_type": "execute_result"
    }
   ],
   "source": [
    "#dropped rating column  \n",
    "\n",
    "df.drop(columns='rating',inplace=True)\n",
    "\n",
    "#replaced the null values in shipping_time with mode value\n",
    "\n",
    "df['shipping_time'].fillna(df['shipping_time'].mode()[0],inplace=True)\n",
    "\n",
    "#replaced the null values in binding with mode value\n",
    "\n",
    "df['binding'].fillna(df['binding'].mode()[0],inplace=True)\n",
    "\n",
    "#replaced the null values in language with mode value\n",
    "\n",
    "df['language'].fillna(df['language'].mode()[0],inplace=True)\n",
    "\n",
    "#deleted noise value rows from language column\n",
    "\n",
    "df=df.loc[df['language']=='(English)']\n",
    "\n",
    "#cleaning noise from language column\n",
    "\n",
    "df['language']=df['language'].str.replace('(','').str.replace(')','')\n",
    "\n",
    "#deleted noise value rows from pages column\n",
    "\n",
    "df=df.loc[df['pages']!='(English)']\n",
    "\n",
    "#cleaning pages column\n",
    "\n",
    "df['pages']=df['pages'].str.replace('Pages','')\n",
    "\n",
    "#keeping only relevant price df fromcolumn\n",
    "\n",
    "df['price']=df['price'].str[:6]\n",
    "\n",
    "#cleaning the noises from the price column\n",
    "\n",
    "df['price']=df['price'].str.replace('R','').str.replace('s','')\n",
    "\n",
    "#cleaning noise from publication year\n",
    "\n",
    "df=df.loc[df['publication_year'].str.len()==4]\n",
    "\n",
    "#dropping the duplicate rows\n",
    "\n",
    "df.drop_duplicates(inplace=True)\n",
    "\n",
    "#changing the dftype of numeric column\n",
    "\n",
    "numeric=['publication_year','pages','price']\n",
    "for i in numeric:\n",
    "    df[i]=pd.to_numeric(df[i],errors='coerce')\n",
    "    \n",
    "#dropped remaining null values rows from dfset \n",
    "\n",
    "df.dropna(inplace=True)\n",
    "\n",
    "#changing datatypefromfloat to int\n",
    "\n",
    "df['pages']=df['pages'].astype('int64')\n",
    "\n",
    "#reseting the index of datafram\n",
    "\n",
    "data.reset_index(drop=True,inplace=True)\n",
    "\n",
    "len(df)"
   ]
  },
  {
   "cell_type": "markdown",
   "id": "412327b7",
   "metadata": {},
   "source": [
    "# Building Machine learning models"
   ]
  },
  {
   "cell_type": "markdown",
   "id": "81131644",
   "metadata": {},
   "source": [
    "## 1.clustering model for grouping books in 3 price ranges"
   ]
  },
  {
   "cell_type": "code",
   "execution_count": 68,
   "id": "6aa84ae4",
   "metadata": {},
   "outputs": [],
   "source": [
    "#importing kmeans clustering algorithm\n",
    "\n",
    "from sklearn.cluster import KMeans\n",
    "\n",
    "#n_cluster value is 3 \n",
    "\n",
    "kmeans = KMeans(n_clusters=3)\n",
    "\n",
    "#fittin  kmeans algorithm on columns\n",
    "\n",
    "kmeans.fit(df[['pages','price']])\n",
    "\n",
    "#predicting the clusters\n",
    "\n",
    "cluster = kmeans.predict(df[['pages','price']])\n",
    "\n",
    "#concatinating the column to dfset\n",
    "\n",
    "df['cluster']=cluster\n",
    "\n",
    "#mapping the text to clusters\n",
    "\n",
    "classes={0:'low range',1:'mid range',2:'high range'}\n",
    "\n",
    "df['cluster']= df['cluster'].map(classes)\n",
    "\n",
    "#exporting final preprocessed and clustered dfset\n",
    "\n",
    "df.to_csv(\"mybooks_project_data.csv\")"
   ]
  },
  {
   "cell_type": "markdown",
   "id": "9e540814",
   "metadata": {},
   "source": [
    "## Dataset Analysis"
   ]
  },
  {
   "cell_type": "code",
   "execution_count": 115,
   "id": "74548481",
   "metadata": {},
   "outputs": [
    {
     "data": {
      "text/plain": [
       "<AxesSubplot:xlabel='cluster', ylabel='count'>"
      ]
     },
     "execution_count": 115,
     "metadata": {},
     "output_type": "execute_result"
    },
    {
     "data": {
      "image/png": "[encoded data removed]",
      "text/plain": [
       "<Figure size 576x288 with 1 Axes>"
      ]
     },
     "metadata": {
      "needs_background": "light"
     },
     "output_type": "display_data"
    }
   ],
   "source": [
    "plt.figure(figsize=(8,4))\n",
    "sns.countplot(x=data['cluster'])"
   ]
  },
  {
   "cell_type": "code",
   "execution_count": 116,
   "id": "f46a8621",
   "metadata": {},
   "outputs": [
    {
     "data": {
      "text/plain": [
       "<AxesSubplot:xlabel='publication_year', ylabel='Count'>"
      ]
     },
     "execution_count": 116,
     "metadata": {},
     "output_type": "execute_result"
    },
    {
     "data": {
      "image/png": "[encoded data removed]",
      "text/plain": [
       "<Figure size 576x288 with 1 Axes>"
      ]
     },
     "metadata": {
      "needs_background": "light"
     },
     "output_type": "display_data"
    }
   ],
   "source": [
    "plt.figure(figsize=(8,4))\n",
    "sns.histplot(x=data['publication_year'])"
   ]
  },
  {
   "cell_type": "code",
   "execution_count": 119,
   "id": "b7ba30db",
   "metadata": {},
   "outputs": [
    {
     "data": {
      "text/plain": [
       "<AxesSubplot:xlabel='shipping_time', ylabel='Count'>"
      ]
     },
     "execution_count": 119,
     "metadata": {},
     "output_type": "execute_result"
    },
    {
     "data": {
      "image/png": "[encoded data removed]",
      "text/plain": [
       "<Figure size 432x288 with 1 Axes>"
      ]
     },
     "metadata": {
      "needs_background": "light"
     },
     "output_type": "display_data"
    }
   ],
   "source": [
    "plt.xticks(rotation=90)\n",
    "sns.histplot(x=data['shipping_time'])"
   ]
  },
  {
   "cell_type": "code",
   "execution_count": 126,
   "id": "23be4fdc",
   "metadata": {},
   "outputs": [
    {
     "name": "stderr",
     "output_type": "stream",
     "text": [
      "C:\\Users\\lenovo\\anaconda3\\lib\\site-packages\\seaborn\\distributions.py:2619: FutureWarning: `distplot` is a deprecated function and will be removed in a future version. Please adapt your code to use either `displot` (a figure-level function with similar flexibility) or `kdeplot` (an axes-level function for kernel density plots).\n",
      "  warnings.warn(msg, FutureWarning)\n"
     ]
    },
    {
     "data": {
      "text/plain": [
       "<AxesSubplot:xlabel='price', ylabel='Density'>"
      ]
     },
     "execution_count": 126,
     "metadata": {},
     "output_type": "execute_result"
    },
    {
     "data": {
      "image/png": "[encoded data removed]",
      "text/plain": [
       "<Figure size 432x288 with 1 Axes>"
      ]
     },
     "metadata": {
      "needs_background": "light"
     },
     "output_type": "display_data"
    }
   ],
   "source": [
    "plt.xticks(rotation=90)\n",
    "sns.distplot(data['price'],hist=False)"
   ]
  },
  {
   "cell_type": "markdown",
   "id": "bd7582ac",
   "metadata": {},
   "source": [
    "## 2.Linear regression model for price prediction"
   ]
  },
  {
   "cell_type": "code",
   "execution_count": 86,
   "id": "2d270580",
   "metadata": {},
   "outputs": [],
   "source": [
    "pred_data=pd.read_csv(\"mybooks_final.csv\")"
   ]
  },
  {
   "cell_type": "code",
   "execution_count": 87,
   "id": "4371783c",
   "metadata": {},
   "outputs": [],
   "source": [
    "pred_data=pred_data.iloc[:,1:]"
   ]
  },
  {
   "cell_type": "code",
   "execution_count": 111,
   "id": "cad26a88",
   "metadata": {},
   "outputs": [
    {
     "data": {
      "text/html": [
       "<div>\n",
       "<style scoped>\n",
       "    .dataframe tbody tr th:only-of-type {\n",
       "        vertical-align: middle;\n",
       "    }\n",
       "\n",
       "    .dataframe tbody tr th {\n",
       "        vertical-align: top;\n",
       "    }\n",
       "\n",
       "    .dataframe thead th {\n",
       "        text-align: right;\n",
       "    }\n",
       "</style>\n",
       "<table border=\"1\" class=\"dataframe\">\n",
       "  <thead>\n",
       "    <tr style=\"text-align: right;\">\n",
       "      <th></th>\n",
       "      <th>book_name</th>\n",
       "      <th>author</th>\n",
       "      <th>publication</th>\n",
       "      <th>publication_year</th>\n",
       "      <th>availability</th>\n",
       "      <th>pages</th>\n",
       "      <th>shipping_time</th>\n",
       "      <th>language</th>\n",
       "      <th>price</th>\n",
       "      <th>binding</th>\n",
       "      <th>cover</th>\n",
       "      <th>about_book</th>\n",
       "      <th>web_link</th>\n",
       "      <th>cluster</th>\n",
       "    </tr>\n",
       "  </thead>\n",
       "  <tbody>\n",
       "    <tr>\n",
       "      <th>0</th>\n",
       "      <td>Continuous Discovery Habits: Discover Products...</td>\n",
       "      <td>Teresa Torres</td>\n",
       "      <td>Product Talk LLC</td>\n",
       "      <td>2021</td>\n",
       "      <td>Available</td>\n",
       "      <td>244.0</td>\n",
       "      <td>Usually Ships 20-25 Days</td>\n",
       "      <td>English</td>\n",
       "      <td>1500</td>\n",
       "      <td>Paperback</td>\n",
       "      <td>https://cms.buybooksindia.com/uploads/books/97...</td>\n",
       "      <td>How do you know that you are making a product ...</td>\n",
       "      <td>https://www.buybooksindia.com/-continuous-disc...</td>\n",
       "      <td>mid range</td>\n",
       "    </tr>\n",
       "    <tr>\n",
       "      <th>1</th>\n",
       "      <td>TULIP OF ISTANBUL</td>\n",
       "      <td>Iskender Pala</td>\n",
       "      <td>Niyogi Books</td>\n",
       "      <td>2021</td>\n",
       "      <td>Available</td>\n",
       "      <td>392.0</td>\n",
       "      <td>Same Day Dispatch</td>\n",
       "      <td>English</td>\n",
       "      <td>396</td>\n",
       "      <td>Paperback</td>\n",
       "      <td>https://cms.buybooksindia.com/uploads/books/97...</td>\n",
       "      <td>Tulip of Istanbul is a historical novel depi...</td>\n",
       "      <td>https://www.buybooksindia.com/-tulip-of-istanb...</td>\n",
       "      <td>low range</td>\n",
       "    </tr>\n",
       "  </tbody>\n",
       "</table>\n",
       "</div>"
      ],
      "text/plain": [
       "                                           book_name         author  \\\n",
       "0  Continuous Discovery Habits: Discover Products...  Teresa Torres   \n",
       "1                                  TULIP OF ISTANBUL  Iskender Pala   \n",
       "\n",
       "        publication  publication_year availability  pages  \\\n",
       "0  Product Talk LLC              2021    Available  244.0   \n",
       "1      Niyogi Books              2021    Available  392.0   \n",
       "\n",
       "              shipping_time language  price    binding  \\\n",
       "0  Usually Ships 20-25 Days  English   1500  Paperback   \n",
       "1         Same Day Dispatch  English    396  Paperback   \n",
       "\n",
       "                                               cover  \\\n",
       "0  https://cms.buybooksindia.com/uploads/books/97...   \n",
       "1  https://cms.buybooksindia.com/uploads/books/97...   \n",
       "\n",
       "                                          about_book  \\\n",
       "0  How do you know that you are making a product ...   \n",
       "1    Tulip of Istanbul is a historical novel depi...   \n",
       "\n",
       "                                            web_link    cluster  \n",
       "0  https://www.buybooksindia.com/-continuous-disc...  mid range  \n",
       "1  https://www.buybooksindia.com/-tulip-of-istanb...  low range  "
      ]
     },
     "execution_count": 111,
     "metadata": {},
     "output_type": "execute_result"
    }
   ],
   "source": [
    "pred_data.head(2)"
   ]
  },
  {
   "cell_type": "code",
   "execution_count": 89,
   "id": "028a0f84",
   "metadata": {},
   "outputs": [
    {
     "data": {
      "text/plain": [
       "book_name           2331\n",
       "author              1624\n",
       "publication          799\n",
       "publication_year      47\n",
       "availability           2\n",
       "pages                353\n",
       "shipping_time         11\n",
       "language               1\n",
       "price                834\n",
       "binding                5\n",
       "cover               2458\n",
       "about_book          2259\n",
       "web_link            2458\n",
       "cluster                3\n",
       "dtype: int64"
      ]
     },
     "execution_count": 89,
     "metadata": {},
     "output_type": "execute_result"
    }
   ],
   "source": [
    "pred_data.nunique()"
   ]
  },
  {
   "cell_type": "code",
   "execution_count": 90,
   "id": "3e798214",
   "metadata": {},
   "outputs": [
    {
     "data": {
      "text/plain": [
       "Index(['book_name', 'author', 'publication', 'publication_year',\n",
       "       'availability', 'pages', 'shipping_time', 'language', 'price',\n",
       "       'binding', 'cover', 'about_book', 'web_link', 'cluster'],\n",
       "      dtype='object')"
      ]
     },
     "execution_count": 90,
     "metadata": {},
     "output_type": "execute_result"
    }
   ],
   "source": [
    "pred_data.columns"
   ]
  },
  {
   "cell_type": "code",
   "execution_count": 91,
   "id": "bf7c02be",
   "metadata": {},
   "outputs": [
    {
     "data": {
      "text/html": [
       "<div>\n",
       "<style scoped>\n",
       "    .dataframe tbody tr th:only-of-type {\n",
       "        vertical-align: middle;\n",
       "    }\n",
       "\n",
       "    .dataframe tbody tr th {\n",
       "        vertical-align: top;\n",
       "    }\n",
       "\n",
       "    .dataframe thead th {\n",
       "        text-align: right;\n",
       "    }\n",
       "</style>\n",
       "<table border=\"1\" class=\"dataframe\">\n",
       "  <thead>\n",
       "    <tr style=\"text-align: right;\">\n",
       "      <th></th>\n",
       "      <th>publication</th>\n",
       "      <th>publication_year</th>\n",
       "      <th>availability</th>\n",
       "      <th>pages</th>\n",
       "      <th>binding</th>\n",
       "      <th>cluster</th>\n",
       "      <th>price</th>\n",
       "    </tr>\n",
       "  </thead>\n",
       "  <tbody>\n",
       "    <tr>\n",
       "      <th>0</th>\n",
       "      <td>Product Talk LLC</td>\n",
       "      <td>2021</td>\n",
       "      <td>Available</td>\n",
       "      <td>244.0</td>\n",
       "      <td>Paperback</td>\n",
       "      <td>mid range</td>\n",
       "      <td>1500</td>\n",
       "    </tr>\n",
       "    <tr>\n",
       "      <th>1</th>\n",
       "      <td>Niyogi Books</td>\n",
       "      <td>2021</td>\n",
       "      <td>Available</td>\n",
       "      <td>392.0</td>\n",
       "      <td>Paperback</td>\n",
       "      <td>low range</td>\n",
       "      <td>396</td>\n",
       "    </tr>\n",
       "    <tr>\n",
       "      <th>2</th>\n",
       "      <td>Penguin Random House India Private Limited</td>\n",
       "      <td>2015</td>\n",
       "      <td>Available</td>\n",
       "      <td>390.0</td>\n",
       "      <td>Paperback</td>\n",
       "      <td>low range</td>\n",
       "      <td>315</td>\n",
       "    </tr>\n",
       "    <tr>\n",
       "      <th>3</th>\n",
       "      <td>T Gephart</td>\n",
       "      <td>2017</td>\n",
       "      <td>Available</td>\n",
       "      <td>316.0</td>\n",
       "      <td>Paperback</td>\n",
       "      <td>low range</td>\n",
       "      <td>804</td>\n",
       "    </tr>\n",
       "    <tr>\n",
       "      <th>4</th>\n",
       "      <td>Kicam Projects</td>\n",
       "      <td>2016</td>\n",
       "      <td>Available</td>\n",
       "      <td>128.0</td>\n",
       "      <td>Paperback</td>\n",
       "      <td>low range</td>\n",
       "      <td>646</td>\n",
       "    </tr>\n",
       "    <tr>\n",
       "      <th>...</th>\n",
       "      <td>...</td>\n",
       "      <td>...</td>\n",
       "      <td>...</td>\n",
       "      <td>...</td>\n",
       "      <td>...</td>\n",
       "      <td>...</td>\n",
       "      <td>...</td>\n",
       "    </tr>\n",
       "    <tr>\n",
       "      <th>2453</th>\n",
       "      <td>Amar Chitra Katha</td>\n",
       "      <td>2000</td>\n",
       "      <td>Available</td>\n",
       "      <td>32.0</td>\n",
       "      <td>Paperback</td>\n",
       "      <td>low range</td>\n",
       "      <td>162</td>\n",
       "    </tr>\n",
       "    <tr>\n",
       "      <th>2454</th>\n",
       "      <td>Amar Chitra Katha</td>\n",
       "      <td>2017</td>\n",
       "      <td>Available</td>\n",
       "      <td>32.0</td>\n",
       "      <td>Paperback</td>\n",
       "      <td>low range</td>\n",
       "      <td>138</td>\n",
       "    </tr>\n",
       "    <tr>\n",
       "      <th>2455</th>\n",
       "      <td>Amar Chitra Katha</td>\n",
       "      <td>2018</td>\n",
       "      <td>Available</td>\n",
       "      <td>32.0</td>\n",
       "      <td>Paperback</td>\n",
       "      <td>low range</td>\n",
       "      <td>138</td>\n",
       "    </tr>\n",
       "    <tr>\n",
       "      <th>2456</th>\n",
       "      <td>HARPERCOLLINS PUBLISHERS INDIA</td>\n",
       "      <td>2022</td>\n",
       "      <td>Out of Stock</td>\n",
       "      <td>24.0</td>\n",
       "      <td>Paperback</td>\n",
       "      <td>low range</td>\n",
       "      <td>269</td>\n",
       "    </tr>\n",
       "    <tr>\n",
       "      <th>2457</th>\n",
       "      <td>Explore Australia</td>\n",
       "      <td>2022</td>\n",
       "      <td>Out of Stock</td>\n",
       "      <td>128.0</td>\n",
       "      <td>Flexibound</td>\n",
       "      <td>low range</td>\n",
       "      <td>899</td>\n",
       "    </tr>\n",
       "  </tbody>\n",
       "</table>\n",
       "<p>2458 rows × 7 columns</p>\n",
       "</div>"
      ],
      "text/plain": [
       "                                     publication  publication_year  \\\n",
       "0                               Product Talk LLC              2021   \n",
       "1                                   Niyogi Books              2021   \n",
       "2     Penguin Random House India Private Limited              2015   \n",
       "3                                      T Gephart              2017   \n",
       "4                                 Kicam Projects              2016   \n",
       "...                                          ...               ...   \n",
       "2453                           Amar Chitra Katha              2000   \n",
       "2454                           Amar Chitra Katha              2017   \n",
       "2455                           Amar Chitra Katha              2018   \n",
       "2456              HARPERCOLLINS PUBLISHERS INDIA              2022   \n",
       "2457                           Explore Australia              2022   \n",
       "\n",
       "      availability  pages     binding    cluster  price  \n",
       "0        Available  244.0   Paperback  mid range   1500  \n",
       "1        Available  392.0   Paperback  low range    396  \n",
       "2        Available  390.0   Paperback  low range    315  \n",
       "3        Available  316.0   Paperback  low range    804  \n",
       "4        Available  128.0   Paperback  low range    646  \n",
       "...            ...    ...         ...        ...    ...  \n",
       "2453     Available   32.0   Paperback  low range    162  \n",
       "2454     Available   32.0   Paperback  low range    138  \n",
       "2455     Available   32.0   Paperback  low range    138  \n",
       "2456  Out of Stock   24.0   Paperback  low range    269  \n",
       "2457  Out of Stock  128.0  Flexibound  low range    899  \n",
       "\n",
       "[2458 rows x 7 columns]"
      ]
     },
     "execution_count": 91,
     "metadata": {},
     "output_type": "execute_result"
    }
   ],
   "source": [
    "#keeping only categorical and numerical columns\n",
    "\n",
    "df_pred=pred_data[['publication', 'publication_year','availability', 'pages','binding','cluster','price']]\n",
    "df_pred\n"
   ]
  },
  {
   "cell_type": "code",
   "execution_count": 92,
   "id": "2459fb34",
   "metadata": {},
   "outputs": [],
   "source": [
    "from sklearn.preprocessing import OrdinalEncoder\n",
    "enc = OrdinalEncoder()"
   ]
  },
  {
   "cell_type": "code",
   "execution_count": 93,
   "id": "f909bf51",
   "metadata": {},
   "outputs": [
    {
     "name": "stderr",
     "output_type": "stream",
     "text": [
      "C:\\Users\\lenovo\\anaconda3\\lib\\site-packages\\pandas\\util\\_decorators.py:311: SettingWithCopyWarning: \n",
      "A value is trying to be set on a copy of a slice from a DataFrame\n",
      "\n",
      "See the caveats in the documentation: https://pandas.pydata.org/pandas-docs/stable/user_guide/indexing.html#returning-a-view-versus-a-copy\n",
      "  return func(*args, **kwargs)\n"
     ]
    }
   ],
   "source": [
    "df_pred.dropna(inplace=True)"
   ]
  },
  {
   "cell_type": "code",
   "execution_count": 94,
   "id": "b6d58a72",
   "metadata": {},
   "outputs": [
    {
     "name": "stderr",
     "output_type": "stream",
     "text": [
      "C:\\Users\\lenovo\\anaconda3\\lib\\site-packages\\pandas\\core\\frame.py:3678: SettingWithCopyWarning: \n",
      "A value is trying to be set on a copy of a slice from a DataFrame.\n",
      "Try using .loc[row_indexer,col_indexer] = value instead\n",
      "\n",
      "See the caveats in the documentation: https://pandas.pydata.org/pandas-docs/stable/user_guide/indexing.html#returning-a-view-versus-a-copy\n",
      "  self[col] = igetitem(value, i)\n"
     ]
    }
   ],
   "source": [
    "df_pred[['publication','publication_year']]=enc.fit_transform(df_pred[['publication','publication_year']])"
   ]
  },
  {
   "cell_type": "code",
   "execution_count": 95,
   "id": "fdedd0ec",
   "metadata": {},
   "outputs": [],
   "source": [
    "df_pred=pd.get_dummies(df_pred,columns=['availability','binding','cluster'],drop_first=True)"
   ]
  },
  {
   "cell_type": "code",
   "execution_count": 96,
   "id": "af0fe461",
   "metadata": {},
   "outputs": [
    {
     "data": {
      "text/html": [
       "<div>\n",
       "<style scoped>\n",
       "    .dataframe tbody tr th:only-of-type {\n",
       "        vertical-align: middle;\n",
       "    }\n",
       "\n",
       "    .dataframe tbody tr th {\n",
       "        vertical-align: top;\n",
       "    }\n",
       "\n",
       "    .dataframe thead th {\n",
       "        text-align: right;\n",
       "    }\n",
       "</style>\n",
       "<table border=\"1\" class=\"dataframe\">\n",
       "  <thead>\n",
       "    <tr style=\"text-align: right;\">\n",
       "      <th></th>\n",
       "      <th>publication</th>\n",
       "      <th>publication_year</th>\n",
       "      <th>pages</th>\n",
       "      <th>price</th>\n",
       "      <th>availability_Out of Stock</th>\n",
       "      <th>binding_Flexibound</th>\n",
       "      <th>binding_Hardcover</th>\n",
       "      <th>binding_Paperback</th>\n",
       "      <th>binding_Spiral Bound</th>\n",
       "      <th>cluster_low range</th>\n",
       "      <th>cluster_mid range</th>\n",
       "    </tr>\n",
       "  </thead>\n",
       "  <tbody>\n",
       "    <tr>\n",
       "      <th>0</th>\n",
       "      <td>530.0</td>\n",
       "      <td>45.0</td>\n",
       "      <td>244.0</td>\n",
       "      <td>1500</td>\n",
       "      <td>0</td>\n",
       "      <td>0</td>\n",
       "      <td>0</td>\n",
       "      <td>1</td>\n",
       "      <td>0</td>\n",
       "      <td>0</td>\n",
       "      <td>1</td>\n",
       "    </tr>\n",
       "    <tr>\n",
       "      <th>1</th>\n",
       "      <td>452.0</td>\n",
       "      <td>45.0</td>\n",
       "      <td>392.0</td>\n",
       "      <td>396</td>\n",
       "      <td>0</td>\n",
       "      <td>0</td>\n",
       "      <td>0</td>\n",
       "      <td>1</td>\n",
       "      <td>0</td>\n",
       "      <td>1</td>\n",
       "      <td>0</td>\n",
       "    </tr>\n",
       "    <tr>\n",
       "      <th>2</th>\n",
       "      <td>502.0</td>\n",
       "      <td>39.0</td>\n",
       "      <td>390.0</td>\n",
       "      <td>315</td>\n",
       "      <td>0</td>\n",
       "      <td>0</td>\n",
       "      <td>0</td>\n",
       "      <td>1</td>\n",
       "      <td>0</td>\n",
       "      <td>1</td>\n",
       "      <td>0</td>\n",
       "    </tr>\n",
       "    <tr>\n",
       "      <th>3</th>\n",
       "      <td>685.0</td>\n",
       "      <td>41.0</td>\n",
       "      <td>316.0</td>\n",
       "      <td>804</td>\n",
       "      <td>0</td>\n",
       "      <td>0</td>\n",
       "      <td>0</td>\n",
       "      <td>1</td>\n",
       "      <td>0</td>\n",
       "      <td>1</td>\n",
       "      <td>0</td>\n",
       "    </tr>\n",
       "    <tr>\n",
       "      <th>4</th>\n",
       "      <td>348.0</td>\n",
       "      <td>40.0</td>\n",
       "      <td>128.0</td>\n",
       "      <td>646</td>\n",
       "      <td>0</td>\n",
       "      <td>0</td>\n",
       "      <td>0</td>\n",
       "      <td>1</td>\n",
       "      <td>0</td>\n",
       "      <td>1</td>\n",
       "      <td>0</td>\n",
       "    </tr>\n",
       "    <tr>\n",
       "      <th>...</th>\n",
       "      <td>...</td>\n",
       "      <td>...</td>\n",
       "      <td>...</td>\n",
       "      <td>...</td>\n",
       "      <td>...</td>\n",
       "      <td>...</td>\n",
       "      <td>...</td>\n",
       "      <td>...</td>\n",
       "      <td>...</td>\n",
       "      <td>...</td>\n",
       "      <td>...</td>\n",
       "    </tr>\n",
       "    <tr>\n",
       "      <th>2453</th>\n",
       "      <td>22.0</td>\n",
       "      <td>24.0</td>\n",
       "      <td>32.0</td>\n",
       "      <td>162</td>\n",
       "      <td>0</td>\n",
       "      <td>0</td>\n",
       "      <td>0</td>\n",
       "      <td>1</td>\n",
       "      <td>0</td>\n",
       "      <td>1</td>\n",
       "      <td>0</td>\n",
       "    </tr>\n",
       "    <tr>\n",
       "      <th>2454</th>\n",
       "      <td>22.0</td>\n",
       "      <td>41.0</td>\n",
       "      <td>32.0</td>\n",
       "      <td>138</td>\n",
       "      <td>0</td>\n",
       "      <td>0</td>\n",
       "      <td>0</td>\n",
       "      <td>1</td>\n",
       "      <td>0</td>\n",
       "      <td>1</td>\n",
       "      <td>0</td>\n",
       "    </tr>\n",
       "    <tr>\n",
       "      <th>2455</th>\n",
       "      <td>22.0</td>\n",
       "      <td>42.0</td>\n",
       "      <td>32.0</td>\n",
       "      <td>138</td>\n",
       "      <td>0</td>\n",
       "      <td>0</td>\n",
       "      <td>0</td>\n",
       "      <td>1</td>\n",
       "      <td>0</td>\n",
       "      <td>1</td>\n",
       "      <td>0</td>\n",
       "    </tr>\n",
       "    <tr>\n",
       "      <th>2456</th>\n",
       "      <td>253.0</td>\n",
       "      <td>46.0</td>\n",
       "      <td>24.0</td>\n",
       "      <td>269</td>\n",
       "      <td>1</td>\n",
       "      <td>0</td>\n",
       "      <td>0</td>\n",
       "      <td>1</td>\n",
       "      <td>0</td>\n",
       "      <td>1</td>\n",
       "      <td>0</td>\n",
       "    </tr>\n",
       "    <tr>\n",
       "      <th>2457</th>\n",
       "      <td>202.0</td>\n",
       "      <td>46.0</td>\n",
       "      <td>128.0</td>\n",
       "      <td>899</td>\n",
       "      <td>1</td>\n",
       "      <td>1</td>\n",
       "      <td>0</td>\n",
       "      <td>0</td>\n",
       "      <td>0</td>\n",
       "      <td>1</td>\n",
       "      <td>0</td>\n",
       "    </tr>\n",
       "  </tbody>\n",
       "</table>\n",
       "<p>2396 rows × 11 columns</p>\n",
       "</div>"
      ],
      "text/plain": [
       "      publication  publication_year  pages  price  availability_Out of Stock  \\\n",
       "0           530.0              45.0  244.0   1500                          0   \n",
       "1           452.0              45.0  392.0    396                          0   \n",
       "2           502.0              39.0  390.0    315                          0   \n",
       "3           685.0              41.0  316.0    804                          0   \n",
       "4           348.0              40.0  128.0    646                          0   \n",
       "...           ...               ...    ...    ...                        ...   \n",
       "2453         22.0              24.0   32.0    162                          0   \n",
       "2454         22.0              41.0   32.0    138                          0   \n",
       "2455         22.0              42.0   32.0    138                          0   \n",
       "2456        253.0              46.0   24.0    269                          1   \n",
       "2457        202.0              46.0  128.0    899                          1   \n",
       "\n",
       "      binding_Flexibound  binding_Hardcover  binding_Paperback  \\\n",
       "0                      0                  0                  1   \n",
       "1                      0                  0                  1   \n",
       "2                      0                  0                  1   \n",
       "3                      0                  0                  1   \n",
       "4                      0                  0                  1   \n",
       "...                  ...                ...                ...   \n",
       "2453                   0                  0                  1   \n",
       "2454                   0                  0                  1   \n",
       "2455                   0                  0                  1   \n",
       "2456                   0                  0                  1   \n",
       "2457                   1                  0                  0   \n",
       "\n",
       "      binding_Spiral Bound  cluster_low range  cluster_mid range  \n",
       "0                        0                  0                  1  \n",
       "1                        0                  1                  0  \n",
       "2                        0                  1                  0  \n",
       "3                        0                  1                  0  \n",
       "4                        0                  1                  0  \n",
       "...                    ...                ...                ...  \n",
       "2453                     0                  1                  0  \n",
       "2454                     0                  1                  0  \n",
       "2455                     0                  1                  0  \n",
       "2456                     0                  1                  0  \n",
       "2457                     0                  1                  0  \n",
       "\n",
       "[2396 rows x 11 columns]"
      ]
     },
     "execution_count": 96,
     "metadata": {},
     "output_type": "execute_result"
    }
   ],
   "source": [
    "df_pred"
   ]
  },
  {
   "cell_type": "code",
   "execution_count": 97,
   "id": "ea220e40",
   "metadata": {},
   "outputs": [
    {
     "data": {
      "image/png": "[encoded data removed]",
      "text/plain": [
       "<Figure size 432x288 with 1 Axes>"
      ]
     },
     "metadata": {
      "needs_background": "light"
     },
     "output_type": "display_data"
    },
    {
     "data": {
      "image/png": "[encoded data removed]",
      "text/plain": [
       "<Figure size 432x288 with 1 Axes>"
      ]
     },
     "metadata": {
      "needs_background": "light"
     },
     "output_type": "display_data"
    },
    {
     "data": {
      "image/png": "[encoded data removed]",
      "text/plain": [
       "<Figure size 432x288 with 1 Axes>"
      ]
     },
     "metadata": {
      "needs_background": "light"
     },
     "output_type": "display_data"
    },
    {
     "data": {
      "image/png": "[encoded data removed]",
      "text/plain": [
       "<Figure size 432x288 with 1 Axes>"
      ]
     },
     "metadata": {
      "needs_background": "light"
     },
     "output_type": "display_data"
    }
   ],
   "source": [
    "c = ['publication','publication_year','pages','price']\n",
    "\n",
    "for i in c:\n",
    "    plt.figure()\n",
    "    sns.boxplot(y=df_pred[i])\n",
    "    plt.show()"
   ]
  },
  {
   "cell_type": "code",
   "execution_count": 98,
   "id": "261f1434",
   "metadata": {},
   "outputs": [
    {
     "data": {
      "image/png": "[encoded data removed]",
      "text/plain": [
       "<Figure size 432x288 with 1 Axes>"
      ]
     },
     "metadata": {
      "needs_background": "light"
     },
     "output_type": "display_data"
    }
   ],
   "source": [
    "outliers= ['price']\n",
    "\n",
    "for i in outliers:\n",
    "    Q1=df_pred[i].quantile(0.25)\n",
    "    Q3=df_pred[i].quantile(0.75)\n",
    "    IQR= Q3 - Q1\n",
    "    LowerLimit = Q1-(IQR * 1.5)\n",
    "    UpperLimit = Q3+(IQR * 1.5)\n",
    "    df_pred=df_pred.loc[(df_pred[i]>LowerLimit) & (df_pred[i]<UpperLimit)]\n",
    "    plt.figure()\n",
    "    sns.boxplot(y=df_pred[i])\n",
    "    plt.show()"
   ]
  },
  {
   "cell_type": "code",
   "execution_count": 99,
   "id": "8354027b",
   "metadata": {},
   "outputs": [
    {
     "data": {
      "text/plain": [
       "array([[530.,  45., 244., ...,   0.,   0.,   1.],\n",
       "       [452.,  45., 392., ...,   0.,   1.,   0.],\n",
       "       [502.,  39., 390., ...,   0.,   1.,   0.],\n",
       "       ...,\n",
       "       [ 22.,  42.,  32., ...,   0.,   1.,   0.],\n",
       "       [253.,  46.,  24., ...,   0.,   1.,   0.],\n",
       "       [202.,  46., 128., ...,   0.,   1.,   0.]])"
      ]
     },
     "execution_count": 99,
     "metadata": {},
     "output_type": "execute_result"
    }
   ],
   "source": [
    "x=df_pred[['publication', 'publication_year', 'pages',\n",
    "       'availability_Out of Stock', 'binding_Flexibound', 'binding_Hardcover',\n",
    "       'binding_Paperback', 'binding_Spiral Bound', 'cluster_low range',\n",
    "       'cluster_mid range']].values\n",
    "x"
   ]
  },
  {
   "cell_type": "code",
   "execution_count": 100,
   "id": "6c4060b6",
   "metadata": {},
   "outputs": [
    {
     "data": {
      "text/plain": [
       "array([1500,  396,  315, ...,  138,  269,  899], dtype=int64)"
      ]
     },
     "execution_count": 100,
     "metadata": {},
     "output_type": "execute_result"
    }
   ],
   "source": [
    "y=df_pred['price'].values\n",
    "y"
   ]
  },
  {
   "cell_type": "code",
   "execution_count": 101,
   "id": "77561615",
   "metadata": {},
   "outputs": [],
   "source": [
    "from sklearn.model_selection import train_test_split\n",
    "\n",
    "x_train,x_test,y_train,y_test = train_test_split(x,y,test_size=0.2,random_state=4)"
   ]
  },
  {
   "cell_type": "code",
   "execution_count": 102,
   "id": "773729cf",
   "metadata": {},
   "outputs": [],
   "source": [
    "from sklearn.preprocessing import StandardScaler\n",
    "sc = StandardScaler()\n",
    "\n",
    "x_train=sc.fit_transform(x_train)\n",
    "x_test=sc.transform(x_test)"
   ]
  },
  {
   "cell_type": "code",
   "execution_count": 103,
   "id": "a8a82b0c",
   "metadata": {},
   "outputs": [],
   "source": [
    "from sklearn.linear_model import LinearRegression\n",
    "\n",
    "reg = LinearRegression()"
   ]
  },
  {
   "cell_type": "code",
   "execution_count": 104,
   "id": "a29724b0",
   "metadata": {},
   "outputs": [
    {
     "data": {
      "text/plain": [
       "LinearRegression()"
      ]
     },
     "execution_count": 104,
     "metadata": {},
     "output_type": "execute_result"
    }
   ],
   "source": [
    "reg.fit(x_train,y_train)"
   ]
  },
  {
   "cell_type": "code",
   "execution_count": 105,
   "id": "2ccaebf2",
   "metadata": {},
   "outputs": [
    {
     "data": {
      "text/plain": [
       "array([1203.94504596,  439.86334234,  375.26523713,  393.90555254,\n",
       "        395.45683501,  384.96070313, 1186.44892075,  419.29558091,\n",
       "        383.28600847,  388.11207996,  425.46129524,  388.58262973,\n",
       "       1248.71539207,  432.95536766,  427.77658743,  419.87660727,\n",
       "        437.65448868, 1244.74145225,  529.47861315,  430.81880232,\n",
       "        420.40728966,  436.84062749,  435.24756137,  420.886627  ,\n",
       "       1225.80345594,  424.82631668, 1216.02974898,  429.38068587,\n",
       "        402.80782607,  438.97566234,  441.76299476,  441.85887355,\n",
       "       1199.05873289,  440.19090122,  418.4613847 ,  421.30334183,\n",
       "        451.70310831, 1299.87625745, 1225.37562492, 1211.92977594,\n",
       "       1246.32153706,  410.09005425,  436.89166301,  416.89073429,\n",
       "       1228.99203704,  433.92723173,  413.78558838,  471.70245662,\n",
       "        425.68187923, 1223.27338338,  436.43201546, 1244.89521788,\n",
       "        414.94002523,  441.86029666, 1225.80345594,  425.72549014,\n",
       "        417.60684161,  461.18419791,  383.58641486,  426.69966706,\n",
       "       1210.38640552,  458.24135228,  473.10304903, 1201.50190666,\n",
       "        403.38611517,  434.1554494 ,  434.55965997,  449.51634943,\n",
       "        436.81153937,  423.91043076,  427.9115116 ,  414.0487905 ,\n",
       "       1262.2065753 ,  469.54193829,  403.42425056,  414.9632533 ,\n",
       "       1255.21737623,  449.3351467 ,  454.95524564,  399.77755451,\n",
       "        424.58309225, 1265.07774131, 1268.50288728, 1202.85326659,\n",
       "        418.45817089,  404.65668366, 1222.65625276,  436.67788203,\n",
       "        476.1348984 ,  424.69888756,  416.66583769, 1186.52549227,\n",
       "        396.06735314,  434.9000536 ,  437.67583718,  399.02445013,\n",
       "        451.60738232, 1226.44749611,  421.76095601,  430.96137733,\n",
       "        423.63950785, 1225.80973198,  408.71016036,  383.28600847,\n",
       "       1277.81540942,  428.39527313,  429.676226  ,  488.54511229,\n",
       "       1229.5956127 ,  437.23481814,  405.06665453,  418.86111253,\n",
       "        398.93247719,  469.92994953,  404.60484451,  474.7246748 ,\n",
       "        425.10005185,  396.37359089,  432.83613798,  444.46687197,\n",
       "       1182.37081643,  427.00653483,  399.00197165,  442.40349615,\n",
       "        420.24306548,  461.93357697, 1354.37278433, 1278.29077714,\n",
       "        445.56841784, 1229.52903442,  414.75112217,  411.50377092,\n",
       "        433.60634094,  429.69507007,  397.73292452,  443.53620934,\n",
       "        430.98871896,  439.30880929,  439.75584952, 1210.84208345,\n",
       "        447.5316255 ,  420.43391306,  395.5699882 ,  393.15276742,\n",
       "       1224.86680466, 1251.39747659,  470.25689654, 1229.54965584,\n",
       "        528.30161864,  419.34218201,  384.22265975,  402.04264566,\n",
       "        413.08995074,  408.01517979, 1268.80685415,  405.84239468,\n",
       "        444.10462296,  391.39624467,  430.35463705, 1246.02747461,\n",
       "        444.87801565, 1211.86835032, 1269.08541954, 1200.99067761,\n",
       "       1213.96442098,  445.28715365,  411.69275577,  412.80054321,\n",
       "        383.05412021,  423.94787411,  435.15024612, 1243.05694328,\n",
       "        402.96333669,  454.43319404,  398.1559154 ,  383.02026035,\n",
       "        468.00113844,  449.9068081 ,  448.0386592 ,  424.14757042,\n",
       "        441.8740806 , 1195.45555212,  447.58979314,  445.03179674,\n",
       "       1197.73407087,  447.5651799 ,  436.33986721,  478.13071649,\n",
       "        441.08944947,  397.73292452,  410.96788757,  434.69000266,\n",
       "        403.1934476 ,  427.39922649,  414.02074609,  431.40562556,\n",
       "        443.58919594,  425.3868538 ,  435.50706793, 1322.96797336,\n",
       "        444.70977665,  432.43580089, 1249.25040439, 1280.10197481,\n",
       "        386.43763822,  432.45742793,  436.28382098,  426.30349185,\n",
       "        423.3750394 ,  434.62872149,  459.71351723,  450.34439728,\n",
       "        397.17362083,  399.62212618,  388.40634041,  396.94465949,\n",
       "        444.42102408,  391.58828914,  425.79703032,  411.76384534,\n",
       "        404.0594682 ,  448.3489627 ,  459.71091007,  419.5711567 ,\n",
       "       1186.11304778, 1266.24855541,  412.724437  , 1226.12547603,\n",
       "        387.53691164,  468.50377381, 1229.26544928, 1251.20890096,\n",
       "        441.81860915, 1254.84293546,  478.64880995, 1227.43041328,\n",
       "        431.2713718 ,  420.81008995,  240.92843052,  403.68522805,\n",
       "        461.45447659,  413.1926192 ,  423.31776182,  438.32331326,\n",
       "        406.02874518,  411.36996963, 1251.01596813,  444.70977665,\n",
       "        383.28600847,  430.93489737, 1231.65676438,  507.07367787,\n",
       "        460.52578624,  407.766049  ,  392.05125652, 1205.46676216,\n",
       "        468.95529086,  441.08552817,  400.87527421,  423.3750394 ,\n",
       "        400.8180647 , 1286.15698682,  463.86968931,  416.50970448,\n",
       "        426.28638203,  417.09798632,  396.03202446,  424.65178619,\n",
       "       1228.04853992,  424.03224091,  433.69858532, 1281.73933703,\n",
       "        406.11504873,  456.9763704 , 1211.11741965,  427.16700303,\n",
       "        428.47416231,  393.15276742,  393.15276742,  428.02155734,\n",
       "        460.51949062, 1271.64652998,  440.84574638,  455.26144681,\n",
       "        397.73292452, 1237.53385885,  466.27778731,  425.61043468,\n",
       "        499.41326604,  392.48627856,  421.99941031, 1233.3911151 ,\n",
       "        431.13862445,  424.08425637,  412.24610528, 1231.6736691 ,\n",
       "        407.49127373, 1245.84362073,  449.93716205,  461.82869112,\n",
       "        416.21096078, 1208.71394884, 1199.38075298,  424.78586413,\n",
       "        420.4379305 ,  410.46010547,  408.89885831,  431.55599686,\n",
       "        420.72945319,  396.30061931,  427.78470458,  426.69683367,\n",
       "        430.91837567, 1279.87495906,  405.03327593,  438.12747548,\n",
       "        426.47358692, 1223.71877944,  430.08176406,  400.87527421,\n",
       "       1243.61866497,  400.18327098,  380.97615733, 1336.94338184,\n",
       "       1244.56102874,  419.73001433,  444.01176882,  456.17590962,\n",
       "        403.25221775,  429.06677066,  401.9896729 ,  434.33692424,\n",
       "        421.6273943 ,  457.95847581,  395.68096507,  400.28986716,\n",
       "        421.10851129,  410.75388035,  424.01269457,  418.91261436,\n",
       "        408.50327802,  397.73292452,  398.63208414,  408.70070238,\n",
       "        272.00896228,  454.15593182,  424.21726998,  446.78895593,\n",
       "        417.49017128,  405.15225319,  436.04632067, 1217.51238322,\n",
       "        434.77471851, 1190.78419073,  421.43477504,  276.02264562,\n",
       "        507.07367787,  388.69343079,  413.13098118, 1222.12015651,\n",
       "        426.06459287, 1268.17641113,  387.02635089,  461.56734557,\n",
       "        386.77433889,  425.2371385 ,  434.77708161,  510.19587837,\n",
       "        427.2743089 ,  438.80776212,  272.00896228,  441.94054991,\n",
       "        408.5093628 ,  456.4702657 ,  399.39639459,  442.39651523,\n",
       "        412.19751963,  401.09739858,  438.9059257 ,  442.65778011,\n",
       "        415.23932937,  397.48478651,  400.71388392, 1225.80345594,\n",
       "        423.94787411,  410.99729655,  468.40469194,  425.56685824,\n",
       "       1239.42067129, 1268.21811928,  428.09545487,  405.3758511 ,\n",
       "        450.26339083,  438.49604835,  431.33481646,  444.15084053,\n",
       "       1221.80710191, 1297.95225408, 1234.66702379, 1189.17445997,\n",
       "        423.90977369,  425.57082997,  490.41004335,  468.90497257,\n",
       "        427.59133212,  383.33789332,  440.48954668,  437.81200548,\n",
       "        392.14039345,  452.32766329,  411.24873377,  427.69447923,\n",
       "        468.4887324 ,  427.31146486,  422.77738238,  417.48030914,\n",
       "        415.16615268,  469.26972912,  408.35021777,  436.28430013,\n",
       "        457.54152814,  440.64481821,  438.58390561,  430.88570246,\n",
       "        405.29963331,  426.54425207,  437.06871388,  435.94258333,\n",
       "        467.85906322,  414.0487905 , 1215.29778827,  413.97310229,\n",
       "        398.27630243,  400.98674357,  423.75081993, 1245.90423199,\n",
       "        394.11682199, 1269.243534  ,  450.88492952,  414.9632533 ,\n",
       "        419.73001433,  408.59070445,  383.98750465,  416.39258168,\n",
       "        478.15577284,  417.09936162,  396.54826533,  447.43262642,\n",
       "        445.84021838,  435.82908801,  427.69447923,  397.73292452,\n",
       "        420.85363192,  425.28558071])"
      ]
     },
     "execution_count": 105,
     "metadata": {},
     "output_type": "execute_result"
    }
   ],
   "source": [
    "y_pred=reg.predict(x_test)\n",
    "y_pred"
   ]
  },
  {
   "cell_type": "code",
   "execution_count": 106,
   "id": "ddd7a126",
   "metadata": {},
   "outputs": [],
   "source": [
    "from sklearn import metrics"
   ]
  },
  {
   "cell_type": "code",
   "execution_count": 107,
   "id": "f3804ae1",
   "metadata": {},
   "outputs": [
    {
     "data": {
      "text/plain": [
       "0.7014884537339476"
      ]
     },
     "execution_count": 107,
     "metadata": {},
     "output_type": "execute_result"
    }
   ],
   "source": [
    "metrics.r2_score(y_test,y_pred)"
   ]
  },
  {
   "cell_type": "code",
   "execution_count": 108,
   "id": "52bfbca7",
   "metadata": {},
   "outputs": [
    {
     "data": {
      "text/plain": [
       "48479.65511326963"
      ]
     },
     "execution_count": 108,
     "metadata": {},
     "output_type": "execute_result"
    }
   ],
   "source": [
    "metrics.mean_squared_error(y_test,y_pred)"
   ]
  },
  {
   "cell_type": "code",
   "execution_count": 109,
   "id": "ee5fccf8",
   "metadata": {},
   "outputs": [
    {
     "data": {
      "text/plain": [
       "220.18095992448946"
      ]
     },
     "execution_count": 109,
     "metadata": {},
     "output_type": "execute_result"
    }
   ],
   "source": [
    "np.sqrt(metrics.mean_squared_error(y_test,y_pred))"
   ]
  },
  {
   "cell_type": "code",
   "execution_count": null,
   "id": "4d22028b",
   "metadata": {},
   "outputs": [],
   "source": []
  }
 ],
 "metadata": {
  "kernelspec": {
   "display_name": "Python 3 (ipykernel)",
   "language": "python",
   "name": "python3"
  },
  "language_info": {
   "codemirror_mode": {
    "name": "ipython",
    "version": 3
   },
   "file_extension": ".py",
   "mimetype": "text/x-python",
   "name": "python",
   "nbconvert_exporter": "python",
   "pygments_lexer": "ipython3",
   "version": "3.9.7"
  }
 },
 "nbformat": 4,
 "nbformat_minor": 5
}
